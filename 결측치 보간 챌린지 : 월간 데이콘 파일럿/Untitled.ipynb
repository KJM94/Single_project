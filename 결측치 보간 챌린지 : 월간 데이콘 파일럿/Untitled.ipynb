{
  "cells": [
    {
      "cell_type": "markdown",
      "metadata": {
        "id": "view-in-github",
        "colab_type": "text"
      },
      "source": [
        "<a href=\"https://colab.research.google.com/github/KJM94/Single_project/blob/main/%EA%B2%B0%EC%B8%A1%EC%B9%98%20%EB%B3%B4%EA%B0%84%20%EC%B1%8C%EB%A6%B0%EC%A7%80%20%3A%20%EC%9B%94%EA%B0%84%20%EB%8D%B0%EC%9D%B4%EC%BD%98%20%ED%8C%8C%EC%9D%BC%EB%9F%BF/Untitled.ipynb\" target=\"_parent\"><img src=\"https://colab.research.google.com/assets/colab-badge.svg\" alt=\"Open In Colab\"/></a>"
      ]
    },
    {
      "cell_type": "code",
      "execution_count": null,
      "id": "dff18c5a",
      "metadata": {
        "id": "dff18c5a",
        "outputId": "9efda7f4-204e-4c74-c839-c8fa4db03b69"
      },
      "outputs": [
        {
          "data": {
            "text/plain": [
              "'./submission.csv'"
            ]
          },
          "execution_count": 4,
          "metadata": {},
          "output_type": "execute_result"
        }
      ],
      "source": [
        "import pandas as pd\n",
        "\n",
        "# 파일 경로 설정\n",
        "data_path = './data.csv'\n",
        "submission_path = './sample_submission.csv'\n",
        "output_path = './submission.csv'\n",
        "\n",
        "# 1. 데이터 로드\n",
        "data = pd.read_csv(data_path)\n",
        "sample_submission = pd.read_csv(submission_path)\n",
        "\n",
        "# 2. 결측치 확인\n",
        "missing_indices = data[data['Value'].isna()].index\n",
        "\n",
        "# 3. 선형 보간을 통한 결측치 보정\n",
        "data['Value'] = data['Value'].interpolate(method='linear')\n",
        "\n",
        "# 4. 보간된 데이터를 sample_submission 형식에 맞게 저장\n",
        "sample_submission['Value'] = data['Value']\n",
        "sample_submission.to_csv(output_path, index=False)\n",
        "\n",
        "# 파일 저장이 완료되었습니다.\n",
        "output_path\n"
      ]
    }
  ],
  "metadata": {
    "kernelspec": {
      "display_name": "Python 3 (ipykernel)",
      "language": "python",
      "name": "python3"
    },
    "language_info": {
      "codemirror_mode": {
        "name": "ipython",
        "version": 3
      },
      "file_extension": ".py",
      "mimetype": "text/x-python",
      "name": "python",
      "nbconvert_exporter": "python",
      "pygments_lexer": "ipython3",
      "version": "3.9.7"
    },
    "colab": {
      "provenance": [],
      "toc_visible": true,
      "include_colab_link": true
    }
  },
  "nbformat": 4,
  "nbformat_minor": 5
}