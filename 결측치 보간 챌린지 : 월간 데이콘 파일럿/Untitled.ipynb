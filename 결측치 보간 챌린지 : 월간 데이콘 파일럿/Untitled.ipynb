{
  "cells": [
    {
      "cell_type": "markdown",
      "metadata": {
        "id": "view-in-github",
        "colab_type": "text"
      },
      "source": [
        "<a href=\"https://colab.research.google.com/github/KJM94/Single_project/blob/main/%EA%B2%B0%EC%B8%A1%EC%B9%98%20%EB%B3%B4%EA%B0%84%20%EC%B1%8C%EB%A6%B0%EC%A7%80%20%3A%20%EC%9B%94%EA%B0%84%20%EB%8D%B0%EC%9D%B4%EC%BD%98%20%ED%8C%8C%EC%9D%BC%EB%9F%BF/Untitled.ipynb\" target=\"_parent\"><img src=\"https://colab.research.google.com/assets/colab-badge.svg\" alt=\"Open In Colab\"/></a>"
      ]
    },
    {
      "cell_type": "code",
      "execution_count": null,
      "id": "dff18c5a",
      "metadata": {
        "id": "dff18c5a",
        "outputId": "a8010d33-1989-4e23-d572-2becf4404238"
      },
      "outputs": [
        {
          "data": {
            "text/plain": [
              "'./submission.csv'"
            ]
          },
          "execution_count": 4,
          "metadata": {},
          "output_type": "execute_result"
        }
      ],
      "source": [
        "import pandas as pd\n",
        "\n",
        "# 파일 경로 설정\n",
        "data_path = './data.csv'\n",
        "submission_path = './sample_submission.csv'\n",
        "output_path = './submission.csv'\n",
        "\n",
        "# 1. 데이터 로드\n",
        "data = pd.read_csv(data_path)\n",
        "sample_submission = pd.read_csv(submission_path)\n",
        "\n",
        "# 2. 결측치 확인\n",
        "missing_indices = data[data['Value'].isna()].index\n",
        "\n",
        "# 3. 선형 보간을 통한 결측치 보정\n",
        "data['Value'] = data['Value'].interpolate(method='linear')\n",
        "\n",
        "# 4. 보간된 데이터를 sample_submission 형식에 맞게 저장\n",
        "sample_submission['Value'] = data['Value']\n",
        "sample_submission.to_csv(output_path, index=False)\n",
        "\n",
        "# 파일 저장이 완료되었습니다.\n",
        "output_path\n"
      ]
    },
    {
      "cell_type": "code",
      "execution_count": null,
      "id": "cd7554c3",
      "metadata": {
        "id": "cd7554c3",
        "outputId": "c91112ff-af89-4734-f088-c3f54b2ef6f5"
      },
      "outputs": [
        {
          "name": "stdout",
          "output_type": "stream",
          "text": [
            "결측치 개수:  22493\n",
            "Spline 보간 결과:               id      Value\n",
            "0  SAMPLE_00000  27.636770\n",
            "1  SAMPLE_00001  27.250818\n",
            "2  SAMPLE_00002  27.154348\n",
            "3  SAMPLE_00003  28.665265\n",
            "4  SAMPLE_00004  28.661837\n",
            "5  SAMPLE_00005  28.658410\n",
            "6  SAMPLE_00006  28.654984\n",
            "7  SAMPLE_00007  28.651558\n",
            "8  SAMPLE_00008  28.648132\n",
            "9  SAMPLE_00009  28.644707\n",
            "Polynomial 보간 결과:               id      Value\n",
            "0  SAMPLE_00000  27.636770\n",
            "1  SAMPLE_00001  27.250818\n",
            "2  SAMPLE_00002  27.154348\n",
            "3  SAMPLE_00003  27.109326\n",
            "4  SAMPLE_00004  27.068088\n",
            "5  SAMPLE_00005  27.030561\n",
            "6  SAMPLE_00006  26.996675\n",
            "7  SAMPLE_00007  26.966356\n",
            "8  SAMPLE_00008  26.939534\n",
            "9  SAMPLE_00009  26.916137\n",
            "Spline 보간된 데이터를 저장했습니다: ./submission_spline.csv\n",
            "Polynomial 보간된 데이터를 저장했습니다: ./submission_poly.csv\n"
          ]
        }
      ],
      "source": [
        "import pandas as pd\n",
        "import numpy as np\n",
        "from sklearn.metrics import mean_squared_error\n",
        "\n",
        "# 데이터 파일 경로\n",
        "data_path = './data.csv'\n",
        "submission_path = './sample_submission.csv'\n",
        "output_path_spline = './submission_spline.csv'\n",
        "output_path_poly = './submission_poly.csv'\n",
        "\n",
        "# 1. 데이터 로드\n",
        "data = pd.read_csv(data_path)\n",
        "sample_submission = pd.read_csv(submission_path)\n",
        "\n",
        "# 결측치 확인\n",
        "print(\"결측치 개수: \", data['Value'].isna().sum())\n",
        "\n",
        "# Spline 보간\n",
        "data_spline = data.copy()\n",
        "data_spline['Value'] = data_spline['Value'].interpolate(method='spline', order=3)\n",
        "\n",
        "# Polynomial 보간\n",
        "data_poly = data.copy()\n",
        "data_poly['Value'] = data_poly['Value'].interpolate(method='polynomial', order=3)\n",
        "\n",
        "# 보간 결과 확인\n",
        "print(\"Spline 보간 결과: \", data_spline.head(10))\n",
        "print(\"Polynomial 보간 결과: \", data_poly.head(10))\n",
        "\n",
        "# 결과 저장\n",
        "sample_submission['Value'] = data_spline['Value']\n",
        "sample_submission.to_csv(output_path_spline, index=False)\n",
        "\n",
        "sample_submission['Value'] = data_poly['Value']\n",
        "sample_submission.to_csv(output_path_poly, index=False)\n",
        "\n",
        "print(f\"Spline 보간된 데이터를 저장했습니다: {output_path_spline}\")\n",
        "print(f\"Polynomial 보간된 데이터를 저장했습니다: {output_path_poly}\")\n",
        "\n",
        "# 5. 평가 - RMSE 계산\n",
        "# 실제 값이 포함된 파일이 있다면 RMSE를 계산합니다. 여기서는 예시로 두겠습니다.\n",
        "# true_values = pd.read_csv('true_values.csv')  # 실제 값이 있는 파일을 가정\n",
        "# rmse_spline = mean_squared_error(true_values.loc[missing_indices, 'Value'],\n",
        "#                                  data_spline.loc[missing_indices, 'Value'], squared=False)\n",
        "# rmse_poly = mean_squared_error(true_values.loc[missing_indices, 'Value'],\n",
        "#                                data_poly.loc[missing_indices, 'Value'], squared=False)\n",
        "# print(f'Spline RMSE: {rmse_spline}')\n",
        "# print(f'Polynomial RMSE: {rmse_poly}')\n"
      ]
    },
    {
      "cell_type": "code",
      "execution_count": null,
      "id": "57a86863",
      "metadata": {
        "id": "57a86863",
        "outputId": "5053062e-4706-46d9-866c-97a3f70d8de6"
      },
      "outputs": [
        {
          "name": "stdout",
          "output_type": "stream",
          "text": [
            "모델 기반 보간된 데이터를 저장했습니다: ./submission_model.csv\n"
          ]
        }
      ],
      "source": [
        "import pandas as pd\n",
        "import numpy as np\n",
        "from sklearn.linear_model import LinearRegression\n",
        "from sklearn.model_selection import train_test_split\n",
        "\n",
        "# 데이터 파일 경로\n",
        "data_path = './data.csv'\n",
        "submission_path = './sample_submission.csv'\n",
        "output_path_model = './submission_model.csv'\n",
        "\n",
        "# 1. 데이터 로드\n",
        "data = pd.read_csv(data_path)\n",
        "sample_submission = pd.read_csv(submission_path)\n",
        "\n",
        "# 결측치 인덱스\n",
        "missing_indices = data[data['Value'].isna()].index\n",
        "\n",
        "# 회귀 모델을 사용한 보간\n",
        "data_not_null = data.dropna()\n",
        "X = np.array(data_not_null.index).reshape(-1, 1)\n",
        "y = data_not_null['Value']\n",
        "\n",
        "model = LinearRegression()\n",
        "model.fit(X, y)\n",
        "\n",
        "# 예측\n",
        "data_interpolated = data.copy()\n",
        "missing_X = np.array(missing_indices).reshape(-1, 1)\n",
        "data_interpolated.loc[missing_indices, 'Value'] = model.predict(missing_X)\n",
        "\n",
        "# 보간 결과 저장\n",
        "sample_submission['Value'] = data_interpolated['Value']\n",
        "sample_submission.to_csv(output_path_model, index=False)\n",
        "\n",
        "print(f\"모델 기반 보간된 데이터를 저장했습니다: {output_path_model}\")\n",
        "\n",
        "# 5. 평가 - RMSE 계산\n",
        "# 실제 값이 포함된 파일이 있다면 RMSE를 계산합니다. 여기서는 예시로 두겠습니다.\n",
        "# true_values = pd.read_csv('true_values.csv')  # 실제 값이 있는 파일을 가정\n",
        "# rmse_model = mean_squared_error(true_values.loc[missing_indices, 'Value'],\n",
        "#                                 data_interpolated.loc[missing_indices, 'Value'], squared=False)\n",
        "# print(f'Model 기반 RMSE: {rmse_model}')\n"
      ]
    },
    {
      "cell_type": "code",
      "execution_count": null,
      "id": "4a94a9f0",
      "metadata": {
        "id": "4a94a9f0",
        "outputId": "2d51f3ed-1191-4369-87c0-f549c6c08b69"
      },
      "outputs": [
        {
          "name": "stdout",
          "output_type": "stream",
          "text": [
            "결측치 개수:  22493\n",
            "             id      Value\n",
            "0  SAMPLE_00000  27.636770\n",
            "1  SAMPLE_00001  27.250818\n",
            "2  SAMPLE_00002  27.154348\n",
            "3  SAMPLE_00003  28.665265\n",
            "4  SAMPLE_00004  28.661837\n",
            "5  SAMPLE_00005  28.658410\n",
            "6  SAMPLE_00006  28.654984\n",
            "7  SAMPLE_00007  28.651558\n",
            "8  SAMPLE_00008  28.648132\n",
            "9  SAMPLE_00009  28.644707\n",
            "Spline 보간된 데이터를 저장했습니다: ./submission_spline.csv\n"
          ]
        }
      ],
      "source": [
        "import pandas as pd\n",
        "import numpy as np\n",
        "from sklearn.metrics import mean_squared_error\n",
        "\n",
        "# 데이터 파일 경로\n",
        "data_path = './data.csv'\n",
        "submission_path = './sample_submission.csv'\n",
        "output_path_spline = './submission_spline.csv'\n",
        "\n",
        "# 1. 데이터 로드\n",
        "data = pd.read_csv(data_path)\n",
        "sample_submission = pd.read_csv(submission_path)\n",
        "\n",
        "# 2. 결측치 확인\n",
        "print(\"결측치 개수: \", data['Value'].isna().sum())\n",
        "\n",
        "# 3. Spline 보간을 통한 결측치 보정\n",
        "data['Value'] = data['Value'].interpolate(method='spline', order=3)\n",
        "\n",
        "# 보간 결과 확인\n",
        "print(data.head(10))\n",
        "\n",
        "# 4. 보간된 데이터를 sample_submission 형식에 맞게 저장\n",
        "sample_submission['Value'] = data['Value']\n",
        "sample_submission.to_csv(output_path_spline, index=False)\n",
        "\n",
        "print(f\"Spline 보간된 데이터를 저장했습니다: {output_path_spline}\")\n",
        "\n",
        "# 5. 평가 - RMSE 계산\n",
        "# 실제 값이 포함된 파일이 있다면 RMSE를 계산합니다. 여기서는 예시로 두겠습니다.\n",
        "# true_values = pd.read_csv('true_values.csv')  # 실제 값이 있는 파일을 가정\n",
        "# rmse = mean_squared_error(true_values.loc[missing_indices, 'Value'],\n",
        "#                           data.loc[missing_indices, 'Value'], squared=False)\n",
        "# print(f'RMSE: {rmse}')\n"
      ]
    },
    {
      "cell_type": "code",
      "execution_count": null,
      "id": "68038d47",
      "metadata": {
        "id": "68038d47"
      },
      "outputs": [],
      "source": [
        "import pandas as pd\n",
        "import numpy as np\n",
        "from sklearn.metrics import mean_squared_error\n",
        "\n",
        "# 데이터 파일 경로\n",
        "data_path = './data.csv'\n",
        "submission_path = '/mnt/data/sample_submission.csv'\n",
        "output_path_mean = '/mnt/data/submission_mean.csv'\n",
        "\n",
        "# 1. 데이터 로드\n",
        "data = pd.read_csv(data_path)\n",
        "sample_submission = pd.read_csv(submission_path)\n",
        "\n",
        "# 2. 결측치 확인\n",
        "print(\"결측치 개수: \", data['Value'].isna().sum())\n",
        "\n",
        "# 3. 주변 값 평균을 통한 결측치 보정\n",
        "data['Value'] = data['Value'].interpolate(method='linear')\n",
        "na_indices = data[data['Value'].isna()].index\n",
        "\n",
        "# 주변 값 평균으로 보간\n",
        "for idx in na_indices:\n",
        "    if idx == 0:\n",
        "        data.loc[idx, 'Value'] = data.loc[idx + 1, 'Value']\n",
        "    elif idx == len(data) - 1:\n",
        "        data.loc[idx, 'Value'] = data.loc[idx - 1, 'Value']\n",
        "    else:\n",
        "        data.loc[idx, 'Value'] = (data.loc[idx - 1, 'Value'] + data.loc[idx + 1, 'Value']) / 2\n",
        "\n",
        "# 보간 결과 확인\n",
        "print(data.head(10))\n",
        "\n",
        "# 4. 보간된 데이터를 sample_submission 형식에 맞게 저장\n",
        "sample_submission['Value'] = data['Value']\n",
        "sample_submission.to_csv(output_path_mean, index=False)\n",
        "\n",
        "print(f\"주변 값 평균 보간된 데이터를 저장했습니다: {output_path_mean}\")\n",
        "\n",
        "# 5. 평가 - RMSE 계산\n",
        "# 실제 값이 포함된 파일이 있다면 RMSE를 계산합니다. 여기서는 예시로 두겠습니다.\n",
        "# true_values = pd.read_csv('true_values.csv')  # 실제 값이 있는 파일을 가정\n",
        "# rmse = mean_squared_error(true_values.loc[missing_indices, 'Value'],\n",
        "#                           data.loc[missing_indices, 'Value'], squared=False)\n",
        "# print(f'RMSE: {rmse}')\n"
      ]
    }
  ],
  "metadata": {
    "kernelspec": {
      "display_name": "Python 3 (ipykernel)",
      "language": "python",
      "name": "python3"
    },
    "language_info": {
      "codemirror_mode": {
        "name": "ipython",
        "version": 3
      },
      "file_extension": ".py",
      "mimetype": "text/x-python",
      "name": "python",
      "nbconvert_exporter": "python",
      "pygments_lexer": "ipython3",
      "version": "3.9.7"
    },
    "colab": {
      "provenance": [],
      "toc_visible": true,
      "include_colab_link": true
    }
  },
  "nbformat": 4,
  "nbformat_minor": 5
}