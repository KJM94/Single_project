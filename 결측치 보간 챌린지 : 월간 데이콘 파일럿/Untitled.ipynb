{
  "cells": [
    {
      "cell_type": "markdown",
      "metadata": {
        "id": "view-in-github",
        "colab_type": "text"
      },
      "source": [
        "<a href=\"https://colab.research.google.com/github/KJM94/Single_project/blob/main/%EA%B2%B0%EC%B8%A1%EC%B9%98%20%EB%B3%B4%EA%B0%84%20%EC%B1%8C%EB%A6%B0%EC%A7%80%20%3A%20%EC%9B%94%EA%B0%84%20%EB%8D%B0%EC%9D%B4%EC%BD%98%20%ED%8C%8C%EC%9D%BC%EB%9F%BF/Untitled.ipynb\" target=\"_parent\"><img src=\"https://colab.research.google.com/assets/colab-badge.svg\" alt=\"Open In Colab\"/></a>"
      ]
    },
    {
      "cell_type": "code",
      "execution_count": null,
      "id": "dff18c5a",
      "metadata": {
        "id": "dff18c5a",
        "outputId": "fe456a82-1034-4f7a-f9af-46c32ec4484b"
      },
      "outputs": [
        {
          "data": {
            "text/plain": [
              "'./submission.csv'"
            ]
          },
          "execution_count": 4,
          "metadata": {},
          "output_type": "execute_result"
        }
      ],
      "source": [
        "import pandas as pd\n",
        "\n",
        "# 파일 경로 설정\n",
        "data_path = './data.csv'\n",
        "submission_path = './sample_submission.csv'\n",
        "output_path = './submission.csv'\n",
        "\n",
        "# 1. 데이터 로드\n",
        "data = pd.read_csv(data_path)\n",
        "sample_submission = pd.read_csv(submission_path)\n",
        "\n",
        "# 2. 결측치 확인\n",
        "missing_indices = data[data['Value'].isna()].index\n",
        "\n",
        "# 3. 선형 보간을 통한 결측치 보정\n",
        "data['Value'] = data['Value'].interpolate(method='linear')\n",
        "\n",
        "# 4. 보간된 데이터를 sample_submission 형식에 맞게 저장\n",
        "sample_submission['Value'] = data['Value']\n",
        "sample_submission.to_csv(output_path, index=False)\n",
        "\n",
        "# 파일 저장이 완료되었습니다.\n",
        "output_path\n"
      ]
    },
    {
      "cell_type": "code",
      "execution_count": null,
      "id": "16285c09",
      "metadata": {
        "id": "16285c09",
        "outputId": "14d4cf16-956c-46a3-e897-d2b571cf5c28"
      },
      "outputs": [
        {
          "name": "stdout",
          "output_type": "stream",
          "text": [
            "결측치 개수:  22493\n",
            "Spline 보간 결과:               id      Value\n",
            "0  SAMPLE_00000  27.636770\n",
            "1  SAMPLE_00001  27.250818\n",
            "2  SAMPLE_00002  27.154348\n",
            "3  SAMPLE_00003  28.665265\n",
            "4  SAMPLE_00004  28.661837\n",
            "5  SAMPLE_00005  28.658410\n",
            "6  SAMPLE_00006  28.654984\n",
            "7  SAMPLE_00007  28.651558\n",
            "8  SAMPLE_00008  28.648132\n",
            "9  SAMPLE_00009  28.644707\n",
            "Polynomial 보간 결과:               id      Value\n",
            "0  SAMPLE_00000  27.636770\n",
            "1  SAMPLE_00001  27.250818\n",
            "2  SAMPLE_00002  27.154348\n",
            "3  SAMPLE_00003  27.109326\n",
            "4  SAMPLE_00004  27.068088\n",
            "5  SAMPLE_00005  27.030561\n",
            "6  SAMPLE_00006  26.996675\n",
            "7  SAMPLE_00007  26.966356\n",
            "8  SAMPLE_00008  26.939534\n",
            "9  SAMPLE_00009  26.916137\n",
            "Spline 보간된 데이터를 저장했습니다: ./submission_spline.csv\n",
            "Polynomial 보간된 데이터를 저장했습니다: ./submission_poly.csv\n"
          ]
        }
      ],
      "source": [
        "import pandas as pd\n",
        "import numpy as np\n",
        "from sklearn.metrics import mean_squared_error\n",
        "\n",
        "# 데이터 파일 경로\n",
        "data_path = './data.csv'\n",
        "submission_path = './sample_submission.csv'\n",
        "output_path_spline = './submission_spline.csv'\n",
        "output_path_poly = './submission_poly.csv'\n",
        "\n",
        "# 1. 데이터 로드\n",
        "data = pd.read_csv(data_path)\n",
        "sample_submission = pd.read_csv(submission_path)\n",
        "\n",
        "# 결측치 확인\n",
        "print(\"결측치 개수: \", data['Value'].isna().sum())\n",
        "\n",
        "# Spline 보간\n",
        "data_spline = data.copy()\n",
        "data_spline['Value'] = data_spline['Value'].interpolate(method='spline', order=3)\n",
        "\n",
        "# Polynomial 보간\n",
        "data_poly = data.copy()\n",
        "data_poly['Value'] = data_poly['Value'].interpolate(method='polynomial', order=3)\n",
        "\n",
        "# 보간 결과 확인\n",
        "print(\"Spline 보간 결과: \", data_spline.head(10))\n",
        "print(\"Polynomial 보간 결과: \", data_poly.head(10))\n",
        "\n",
        "# 결과 저장\n",
        "sample_submission['Value'] = data_spline['Value']\n",
        "sample_submission.to_csv(output_path_spline, index=False)\n",
        "\n",
        "sample_submission['Value'] = data_poly['Value']\n",
        "sample_submission.to_csv(output_path_poly, index=False)\n",
        "\n",
        "print(f\"Spline 보간된 데이터를 저장했습니다: {output_path_spline}\")\n",
        "print(f\"Polynomial 보간된 데이터를 저장했습니다: {output_path_poly}\")\n",
        "\n",
        "# 5. 평가 - RMSE 계산\n",
        "# 실제 값이 포함된 파일이 있다면 RMSE를 계산합니다. 여기서는 예시로 두겠습니다.\n",
        "# true_values = pd.read_csv('true_values.csv')  # 실제 값이 있는 파일을 가정\n",
        "# rmse_spline = mean_squared_error(true_values.loc[missing_indices, 'Value'],\n",
        "#                                  data_spline.loc[missing_indices, 'Value'], squared=False)\n",
        "# rmse_poly = mean_squared_error(true_values.loc[missing_indices, 'Value'],\n",
        "#                                data_poly.loc[missing_indices, 'Value'], squared=False)\n",
        "# print(f'Spline RMSE: {rmse_spline}')\n",
        "# print(f'Polynomial RMSE: {rmse_poly}')\n"
      ]
    }
  ],
  "metadata": {
    "kernelspec": {
      "display_name": "Python 3 (ipykernel)",
      "language": "python",
      "name": "python3"
    },
    "language_info": {
      "codemirror_mode": {
        "name": "ipython",
        "version": 3
      },
      "file_extension": ".py",
      "mimetype": "text/x-python",
      "name": "python",
      "nbconvert_exporter": "python",
      "pygments_lexer": "ipython3",
      "version": "3.9.7"
    },
    "colab": {
      "provenance": [],
      "toc_visible": true,
      "include_colab_link": true
    }
  },
  "nbformat": 4,
  "nbformat_minor": 5
}