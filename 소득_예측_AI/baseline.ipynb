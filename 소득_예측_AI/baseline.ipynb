{
  "cells": [
    {
      "cell_type": "markdown",
      "metadata": {
        "id": "view-in-github",
        "colab_type": "text"
      },
      "source": [
        "<a href=\"https://colab.research.google.com/github/KJM94/Single_project/blob/main/%EC%86%8C%EB%93%9D_%EC%98%88%EC%B8%A1_AI/baseline.ipynb\" target=\"_parent\"><img src=\"https://colab.research.google.com/assets/colab-badge.svg\" alt=\"Open In Colab\"/></a>"
      ]
    },
    {
      "cell_type": "markdown",
      "metadata": {
        "id": "9jJVyi6SYLkQ"
      },
      "source": [
        "## Fixed Random Seed"
      ]
    },
    {
      "cell_type": "code",
      "execution_count": null,
      "metadata": {
        "id": "7zaRUD1_YLka"
      },
      "outputs": [],
      "source": [
        "import numpy as np\n",
        "import random\n",
        "import os\n",
        "\n",
        "def seed_everything(seed):\n",
        "    random.seed(seed)\n",
        "    os.environ['PYTHONHASHSEED'] = str(seed)\n",
        "    np.random.seed(seed)\n",
        "\n",
        "seed_everything(42) # Seed 고정"
      ]
    },
    {
      "cell_type": "markdown",
      "metadata": {
        "id": "UTuYMXojYLkg"
      },
      "source": [
        "## 데이터 불러오기 및 확인"
      ]
    },
    {
      "cell_type": "code",
      "execution_count": null,
      "metadata": {
        "id": "4I-w0GliYLkh"
      },
      "outputs": [],
      "source": [
        "import pandas as pd\n",
        "\n",
        "train = pd.read_csv('./train.csv')\n",
        "test = pd.read_csv('./test.csv')"
      ]
    },
    {
      "cell_type": "code",
      "execution_count": null,
      "metadata": {
        "id": "Z9LPn-umYLki",
        "outputId": "169bbe71-842a-4bdf-e1c3-614c0692eaea"
      },
      "outputs": [
        {
          "data": {
            "text/html": [
              "<div>\n",
              "<style scoped>\n",
              "    .dataframe tbody tr th:only-of-type {\n",
              "        vertical-align: middle;\n",
              "    }\n",
              "\n",
              "    .dataframe tbody tr th {\n",
              "        vertical-align: top;\n",
              "    }\n",
              "\n",
              "    .dataframe thead th {\n",
              "        text-align: right;\n",
              "    }\n",
              "</style>\n",
              "<table border=\"1\" class=\"dataframe\">\n",
              "  <thead>\n",
              "    <tr style=\"text-align: right;\">\n",
              "      <th></th>\n",
              "      <th>ID</th>\n",
              "      <th>Age</th>\n",
              "      <th>Gender</th>\n",
              "      <th>Education_Status</th>\n",
              "      <th>Employment_Status</th>\n",
              "      <th>Working_Week (Yearly)</th>\n",
              "      <th>Industry_Status</th>\n",
              "      <th>Occupation_Status</th>\n",
              "      <th>Race</th>\n",
              "      <th>Hispanic_Origin</th>\n",
              "      <th>...</th>\n",
              "      <th>Citizenship</th>\n",
              "      <th>Birth_Country</th>\n",
              "      <th>Birth_Country (Father)</th>\n",
              "      <th>Birth_Country (Mother)</th>\n",
              "      <th>Tax_Status</th>\n",
              "      <th>Gains</th>\n",
              "      <th>Losses</th>\n",
              "      <th>Dividends</th>\n",
              "      <th>Income_Status</th>\n",
              "      <th>Income</th>\n",
              "    </tr>\n",
              "  </thead>\n",
              "  <tbody>\n",
              "    <tr>\n",
              "      <th>0</th>\n",
              "      <td>TRAIN_00000</td>\n",
              "      <td>63</td>\n",
              "      <td>M</td>\n",
              "      <td>Middle (7-8)</td>\n",
              "      <td>Full-Time</td>\n",
              "      <td>4</td>\n",
              "      <td>Social Services</td>\n",
              "      <td>Services</td>\n",
              "      <td>White</td>\n",
              "      <td>All other</td>\n",
              "      <td>...</td>\n",
              "      <td>Native</td>\n",
              "      <td>US</td>\n",
              "      <td>US</td>\n",
              "      <td>US</td>\n",
              "      <td>Nonfiler</td>\n",
              "      <td>0</td>\n",
              "      <td>0</td>\n",
              "      <td>0</td>\n",
              "      <td>Unknown</td>\n",
              "      <td>425</td>\n",
              "    </tr>\n",
              "    <tr>\n",
              "      <th>1</th>\n",
              "      <td>TRAIN_00001</td>\n",
              "      <td>37</td>\n",
              "      <td>M</td>\n",
              "      <td>Associates degree (Vocational)</td>\n",
              "      <td>Full-Time</td>\n",
              "      <td>52</td>\n",
              "      <td>Entertainment</td>\n",
              "      <td>Services</td>\n",
              "      <td>White</td>\n",
              "      <td>All other</td>\n",
              "      <td>...</td>\n",
              "      <td>Native</td>\n",
              "      <td>US</td>\n",
              "      <td>US</td>\n",
              "      <td>US</td>\n",
              "      <td>Single</td>\n",
              "      <td>0</td>\n",
              "      <td>0</td>\n",
              "      <td>0</td>\n",
              "      <td>Under Median</td>\n",
              "      <td>0</td>\n",
              "    </tr>\n",
              "    <tr>\n",
              "      <th>2</th>\n",
              "      <td>TRAIN_00002</td>\n",
              "      <td>58</td>\n",
              "      <td>F</td>\n",
              "      <td>High graduate</td>\n",
              "      <td>Full-Time</td>\n",
              "      <td>52</td>\n",
              "      <td>Manufacturing (Non-durable)</td>\n",
              "      <td>Admin Support (include Clerical)</td>\n",
              "      <td>Black</td>\n",
              "      <td>All other</td>\n",
              "      <td>...</td>\n",
              "      <td>Native</td>\n",
              "      <td>US</td>\n",
              "      <td>US</td>\n",
              "      <td>US</td>\n",
              "      <td>Married Filling Jointly both under 65 (MFJ)</td>\n",
              "      <td>3411</td>\n",
              "      <td>0</td>\n",
              "      <td>0</td>\n",
              "      <td>Under Median</td>\n",
              "      <td>860</td>\n",
              "    </tr>\n",
              "    <tr>\n",
              "      <th>3</th>\n",
              "      <td>TRAIN_00003</td>\n",
              "      <td>44</td>\n",
              "      <td>M</td>\n",
              "      <td>High graduate</td>\n",
              "      <td>Full-Time</td>\n",
              "      <td>52</td>\n",
              "      <td>Retail</td>\n",
              "      <td>Technicians &amp; Support</td>\n",
              "      <td>White</td>\n",
              "      <td>All other</td>\n",
              "      <td>...</td>\n",
              "      <td>Native</td>\n",
              "      <td>US</td>\n",
              "      <td>US</td>\n",
              "      <td>US</td>\n",
              "      <td>Single</td>\n",
              "      <td>0</td>\n",
              "      <td>0</td>\n",
              "      <td>0</td>\n",
              "      <td>Under Median</td>\n",
              "      <td>850</td>\n",
              "    </tr>\n",
              "    <tr>\n",
              "      <th>4</th>\n",
              "      <td>TRAIN_00004</td>\n",
              "      <td>37</td>\n",
              "      <td>F</td>\n",
              "      <td>High graduate</td>\n",
              "      <td>Full-Time</td>\n",
              "      <td>52</td>\n",
              "      <td>Retail</td>\n",
              "      <td>Sales</td>\n",
              "      <td>White</td>\n",
              "      <td>All other</td>\n",
              "      <td>...</td>\n",
              "      <td>Native</td>\n",
              "      <td>US</td>\n",
              "      <td>US</td>\n",
              "      <td>US</td>\n",
              "      <td>Head of Household (HOH)</td>\n",
              "      <td>0</td>\n",
              "      <td>0</td>\n",
              "      <td>0</td>\n",
              "      <td>Unknown</td>\n",
              "      <td>570</td>\n",
              "    </tr>\n",
              "  </tbody>\n",
              "</table>\n",
              "<p>5 rows × 23 columns</p>\n",
              "</div>"
            ],
            "text/plain": [
              "            ID  Age Gender                Education_Status Employment_Status  \\\n",
              "0  TRAIN_00000   63      M                    Middle (7-8)         Full-Time   \n",
              "1  TRAIN_00001   37      M  Associates degree (Vocational)         Full-Time   \n",
              "2  TRAIN_00002   58      F                   High graduate         Full-Time   \n",
              "3  TRAIN_00003   44      M                   High graduate         Full-Time   \n",
              "4  TRAIN_00004   37      F                   High graduate         Full-Time   \n",
              "\n",
              "   Working_Week (Yearly)              Industry_Status  \\\n",
              "0                      4              Social Services   \n",
              "1                     52                Entertainment   \n",
              "2                     52  Manufacturing (Non-durable)   \n",
              "3                     52                       Retail   \n",
              "4                     52                       Retail   \n",
              "\n",
              "                  Occupation_Status   Race Hispanic_Origin  ... Citizenship  \\\n",
              "0                          Services  White       All other  ...      Native   \n",
              "1                          Services  White       All other  ...      Native   \n",
              "2  Admin Support (include Clerical)  Black       All other  ...      Native   \n",
              "3             Technicians & Support  White       All other  ...      Native   \n",
              "4                             Sales  White       All other  ...      Native   \n",
              "\n",
              "  Birth_Country Birth_Country (Father) Birth_Country (Mother)  \\\n",
              "0            US                     US                     US   \n",
              "1            US                     US                     US   \n",
              "2            US                     US                     US   \n",
              "3            US                     US                     US   \n",
              "4            US                     US                     US   \n",
              "\n",
              "                                    Tax_Status Gains Losses Dividends  \\\n",
              "0                                     Nonfiler     0      0         0   \n",
              "1                                       Single     0      0         0   \n",
              "2  Married Filling Jointly both under 65 (MFJ)  3411      0         0   \n",
              "3                                       Single     0      0         0   \n",
              "4                      Head of Household (HOH)     0      0         0   \n",
              "\n",
              "   Income_Status  Income  \n",
              "0        Unknown     425  \n",
              "1   Under Median       0  \n",
              "2   Under Median     860  \n",
              "3   Under Median     850  \n",
              "4        Unknown     570  \n",
              "\n",
              "[5 rows x 23 columns]"
            ]
          },
          "execution_count": 3,
          "metadata": {},
          "output_type": "execute_result"
        }
      ],
      "source": [
        "train.head()"
      ]
    },
    {
      "cell_type": "code",
      "execution_count": null,
      "metadata": {
        "id": "EzJk9oSkYLkl",
        "outputId": "ed60031f-d27d-4576-9bc9-0ade9d9edabc"
      },
      "outputs": [
        {
          "data": {
            "text/html": [
              "<div>\n",
              "<style scoped>\n",
              "    .dataframe tbody tr th:only-of-type {\n",
              "        vertical-align: middle;\n",
              "    }\n",
              "\n",
              "    .dataframe tbody tr th {\n",
              "        vertical-align: top;\n",
              "    }\n",
              "\n",
              "    .dataframe thead th {\n",
              "        text-align: right;\n",
              "    }\n",
              "</style>\n",
              "<table border=\"1\" class=\"dataframe\">\n",
              "  <thead>\n",
              "    <tr style=\"text-align: right;\">\n",
              "      <th></th>\n",
              "      <th>ID</th>\n",
              "      <th>Age</th>\n",
              "      <th>Gender</th>\n",
              "      <th>Education_Status</th>\n",
              "      <th>Employment_Status</th>\n",
              "      <th>Working_Week (Yearly)</th>\n",
              "      <th>Industry_Status</th>\n",
              "      <th>Occupation_Status</th>\n",
              "      <th>Race</th>\n",
              "      <th>Hispanic_Origin</th>\n",
              "      <th>...</th>\n",
              "      <th>Household_Summary</th>\n",
              "      <th>Citizenship</th>\n",
              "      <th>Birth_Country</th>\n",
              "      <th>Birth_Country (Father)</th>\n",
              "      <th>Birth_Country (Mother)</th>\n",
              "      <th>Tax_Status</th>\n",
              "      <th>Gains</th>\n",
              "      <th>Losses</th>\n",
              "      <th>Dividends</th>\n",
              "      <th>Income_Status</th>\n",
              "    </tr>\n",
              "  </thead>\n",
              "  <tbody>\n",
              "    <tr>\n",
              "      <th>0</th>\n",
              "      <td>TEST_0000</td>\n",
              "      <td>79</td>\n",
              "      <td>M</td>\n",
              "      <td>High Junior</td>\n",
              "      <td>Children or Armed Forces</td>\n",
              "      <td>0</td>\n",
              "      <td>Not in universe or children</td>\n",
              "      <td>Unknown</td>\n",
              "      <td>White</td>\n",
              "      <td>All other</td>\n",
              "      <td>...</td>\n",
              "      <td>Householder</td>\n",
              "      <td>Native</td>\n",
              "      <td>US</td>\n",
              "      <td>Unknown</td>\n",
              "      <td>Unknown</td>\n",
              "      <td>Single</td>\n",
              "      <td>0</td>\n",
              "      <td>0</td>\n",
              "      <td>0</td>\n",
              "      <td>Under Median</td>\n",
              "    </tr>\n",
              "    <tr>\n",
              "      <th>1</th>\n",
              "      <td>TEST_0001</td>\n",
              "      <td>47</td>\n",
              "      <td>M</td>\n",
              "      <td>Elementary (5-6)</td>\n",
              "      <td>Children or Armed Forces</td>\n",
              "      <td>0</td>\n",
              "      <td>Not in universe or children</td>\n",
              "      <td>Unknown</td>\n",
              "      <td>White</td>\n",
              "      <td>Other Spanish</td>\n",
              "      <td>...</td>\n",
              "      <td>Child 18 or older</td>\n",
              "      <td>Native</td>\n",
              "      <td>US</td>\n",
              "      <td>US</td>\n",
              "      <td>US</td>\n",
              "      <td>Nonfiler</td>\n",
              "      <td>0</td>\n",
              "      <td>0</td>\n",
              "      <td>0</td>\n",
              "      <td>Under Median</td>\n",
              "    </tr>\n",
              "    <tr>\n",
              "      <th>2</th>\n",
              "      <td>TEST_0002</td>\n",
              "      <td>18</td>\n",
              "      <td>F</td>\n",
              "      <td>High Junior</td>\n",
              "      <td>Children or Armed Forces</td>\n",
              "      <td>52</td>\n",
              "      <td>Retail</td>\n",
              "      <td>Services</td>\n",
              "      <td>White</td>\n",
              "      <td>All other</td>\n",
              "      <td>...</td>\n",
              "      <td>Child 18 or older</td>\n",
              "      <td>Native</td>\n",
              "      <td>US</td>\n",
              "      <td>US</td>\n",
              "      <td>US</td>\n",
              "      <td>Single</td>\n",
              "      <td>0</td>\n",
              "      <td>0</td>\n",
              "      <td>0</td>\n",
              "      <td>Under Median</td>\n",
              "    </tr>\n",
              "    <tr>\n",
              "      <th>3</th>\n",
              "      <td>TEST_0003</td>\n",
              "      <td>39</td>\n",
              "      <td>F</td>\n",
              "      <td>Associates degree (Vocational)</td>\n",
              "      <td>Full-Time</td>\n",
              "      <td>30</td>\n",
              "      <td>Medical (except Hospitals)</td>\n",
              "      <td>Services</td>\n",
              "      <td>White</td>\n",
              "      <td>All other</td>\n",
              "      <td>...</td>\n",
              "      <td>Spouse of householder</td>\n",
              "      <td>Native</td>\n",
              "      <td>US</td>\n",
              "      <td>US</td>\n",
              "      <td>US</td>\n",
              "      <td>Married Filling Jointly both under 65 (MFJ)</td>\n",
              "      <td>0</td>\n",
              "      <td>0</td>\n",
              "      <td>0</td>\n",
              "      <td>Unknown</td>\n",
              "    </tr>\n",
              "    <tr>\n",
              "      <th>4</th>\n",
              "      <td>TEST_0004</td>\n",
              "      <td>6</td>\n",
              "      <td>M</td>\n",
              "      <td>Children</td>\n",
              "      <td>Children or Armed Forces</td>\n",
              "      <td>0</td>\n",
              "      <td>Not in universe or children</td>\n",
              "      <td>Unknown</td>\n",
              "      <td>White</td>\n",
              "      <td>Mexican-American</td>\n",
              "      <td>...</td>\n",
              "      <td>Child under 18 never married</td>\n",
              "      <td>Native</td>\n",
              "      <td>US</td>\n",
              "      <td>US</td>\n",
              "      <td>US</td>\n",
              "      <td>Nonfiler</td>\n",
              "      <td>0</td>\n",
              "      <td>0</td>\n",
              "      <td>0</td>\n",
              "      <td>Unknown</td>\n",
              "    </tr>\n",
              "  </tbody>\n",
              "</table>\n",
              "<p>5 rows × 22 columns</p>\n",
              "</div>"
            ],
            "text/plain": [
              "          ID  Age Gender                Education_Status  \\\n",
              "0  TEST_0000   79      M                     High Junior   \n",
              "1  TEST_0001   47      M                Elementary (5-6)   \n",
              "2  TEST_0002   18      F                     High Junior   \n",
              "3  TEST_0003   39      F  Associates degree (Vocational)   \n",
              "4  TEST_0004    6      M                        Children   \n",
              "\n",
              "          Employment_Status  Working_Week (Yearly)  \\\n",
              "0  Children or Armed Forces                      0   \n",
              "1  Children or Armed Forces                      0   \n",
              "2  Children or Armed Forces                     52   \n",
              "3                 Full-Time                     30   \n",
              "4  Children or Armed Forces                      0   \n",
              "\n",
              "               Industry_Status Occupation_Status   Race    Hispanic_Origin  \\\n",
              "0  Not in universe or children           Unknown  White          All other   \n",
              "1  Not in universe or children           Unknown  White      Other Spanish   \n",
              "2                       Retail          Services  White          All other   \n",
              "3   Medical (except Hospitals)          Services  White          All other   \n",
              "4  Not in universe or children           Unknown  White   Mexican-American   \n",
              "\n",
              "   ...             Household_Summary Citizenship Birth_Country  \\\n",
              "0  ...                   Householder      Native            US   \n",
              "1  ...             Child 18 or older      Native            US   \n",
              "2  ...             Child 18 or older      Native            US   \n",
              "3  ...         Spouse of householder      Native            US   \n",
              "4  ...  Child under 18 never married      Native            US   \n",
              "\n",
              "  Birth_Country (Father) Birth_Country (Mother)  \\\n",
              "0                Unknown                Unknown   \n",
              "1                     US                     US   \n",
              "2                     US                     US   \n",
              "3                     US                     US   \n",
              "4                     US                     US   \n",
              "\n",
              "                                    Tax_Status Gains Losses  Dividends  \\\n",
              "0                                       Single     0      0          0   \n",
              "1                                     Nonfiler     0      0          0   \n",
              "2                                       Single     0      0          0   \n",
              "3  Married Filling Jointly both under 65 (MFJ)     0      0          0   \n",
              "4                                     Nonfiler     0      0          0   \n",
              "\n",
              "   Income_Status  \n",
              "0   Under Median  \n",
              "1   Under Median  \n",
              "2   Under Median  \n",
              "3        Unknown  \n",
              "4        Unknown  \n",
              "\n",
              "[5 rows x 22 columns]"
            ]
          },
          "execution_count": 4,
          "metadata": {},
          "output_type": "execute_result"
        }
      ],
      "source": [
        "test.head()"
      ]
    },
    {
      "cell_type": "code",
      "execution_count": null,
      "metadata": {
        "id": "G4O9HYyRYLkm",
        "outputId": "cd7de635-4149-44a5-d4d4-2e7335e15891"
      },
      "outputs": [
        {
          "data": {
            "text/plain": [
              "ID                        0\n",
              "Age                       0\n",
              "Gender                    0\n",
              "Education_Status          0\n",
              "Employment_Status         0\n",
              "Working_Week (Yearly)     0\n",
              "Industry_Status           0\n",
              "Occupation_Status         0\n",
              "Race                      0\n",
              "Hispanic_Origin           0\n",
              "Martial_Status            0\n",
              "Household_Status          0\n",
              "Household_Summary         0\n",
              "Citizenship               0\n",
              "Birth_Country             0\n",
              "Birth_Country (Father)    0\n",
              "Birth_Country (Mother)    0\n",
              "Tax_Status                0\n",
              "Gains                     0\n",
              "Losses                    0\n",
              "Dividends                 0\n",
              "Income_Status             0\n",
              "Income                    0\n",
              "dtype: int64"
            ]
          },
          "execution_count": 5,
          "metadata": {},
          "output_type": "execute_result"
        }
      ],
      "source": [
        "train.isnull().sum()"
      ]
    },
    {
      "cell_type": "markdown",
      "metadata": {
        "id": "Ghqh6BrKYLkn"
      },
      "source": [
        "- ID : 고객의 넘버\n",
        "- Age : 고객의 나이, 연속형 변수\n",
        "- Gender : 성별, 이산형 변수\n",
        "- Education_Status : 최종학력을 의미한다. 이산형 변수\n",
        "- Employment_Status : 취업 상태를 의미한다. 이산형 변수\n",
        "- Working_Week (Yearly) : 주당 일하는 시간 연속형변수\n",
        "- Industry_Status : 산업분야, 이산형 변수\n",
        "- Occupation_Status : 직업 분야, 이산형 변수\n",
        "- Race : 인종, 이산형변수\n",
        "- Hispanic_Origin : 히스패닉 출신, 이산형 변수\n",
        "- Martial_Status : 결혼 여부, 이산형 변수\n",
        "- Household_Status : 가족 구성, 이산형 변수\n",
        "- Household_Summary : 가족 구성 요약, 이산형 변수\n",
        "- Citizenship : 시민권, 이산형 변수\n",
        "- Birth_Country : 국적, 이산형변수\n",
        "- Birth_Country (Father) : 아버지의 국적, 이산형변수\n",
        "- Birth_Country (Mother) : 어머니의 국적, 이산형변수\n",
        "- Tax_Status : 세금 여부, 이산형변수\n",
        "- Gains : 이득또는 매출로 보인다, 연속형 변수\n",
        "- Losses : 지출로 보인다, 연속형 변수\n",
        "- Dividends : 배당금, 연속형 변수\n",
        "- Income_Status : 소득 상태, 이산형변수\n",
        "- income : 소득, 연속형 변수"
      ]
    },
    {
      "cell_type": "markdown",
      "metadata": {
        "id": "opCA7qHmYLko"
      },
      "source": [
        "## 데이터 전처리 1 : 학습 및 추론 데이터 설정"
      ]
    },
    {
      "cell_type": "code",
      "execution_count": null,
      "metadata": {
        "id": "BsJ33vGeYLkq"
      },
      "outputs": [],
      "source": [
        "train_x = train.drop(columns=['ID', 'Income', 'Gender', 'Race', 'Hispanic_Origin', 'Birth_Country', 'Birth_Country (Father)'\n",
        "                             , 'Birth_Country (Mother)', 'Martial_Status', 'Household_Status'\n",
        "                             , 'Household_Summary', 'Dividends'])\n",
        "train_y = train['Income']\n",
        "\n",
        "test_x = test.drop(columns=['ID', 'Gender', 'Race', 'Hispanic_Origin', 'Birth_Country', 'Birth_Country (Father)'\n",
        "                            , 'Birth_Country (Mother)', 'Martial_Status', 'Household_Status'\n",
        "                           , 'Household_Summary', 'Dividends'])"
      ]
    },
    {
      "cell_type": "markdown",
      "metadata": {
        "id": "V9S5rWqwYLkr"
      },
      "source": [
        "## 데이터 전처리 2 : 범주형 변수 수치화"
      ]
    },
    {
      "cell_type": "code",
      "execution_count": null,
      "metadata": {
        "id": "Uqir96eMYLkt"
      },
      "outputs": [],
      "source": [
        "from sklearn.preprocessing import LabelEncoder\n",
        "\n",
        "encoding_target = list(train_x.dtypes[train_x.dtypes == \"object\"].index)\n",
        "\n",
        "for i in encoding_target:\n",
        "    le = LabelEncoder()\n",
        "\n",
        "    # train과 test 데이터셋에서 해당 열의 모든 값을 문자열로 변환\n",
        "    train_x[i] = train_x[i].astype(str)\n",
        "    test_x[i] = test_x[i].astype(str)\n",
        "\n",
        "    le.fit(train_x[i])\n",
        "    train_x[i] = le.transform(train_x[i])\n",
        "\n",
        "    # test 데이터의 새로운 카테고리에 대해 le.classes_ 배열에 추가\n",
        "    for case in np.unique(test_x[i]):\n",
        "        if case not in le.classes_:\n",
        "            le.classes_ = np.append(le.classes_, case)\n",
        "\n",
        "    test_x[i] = le.transform(test_x[i])"
      ]
    },
    {
      "cell_type": "markdown",
      "metadata": {
        "id": "yxECSrQOYLku"
      },
      "source": [
        "## 모델 선정 및 학습"
      ]
    },
    {
      "cell_type": "code",
      "execution_count": null,
      "metadata": {
        "id": "_bLFhx-9YLkv"
      },
      "outputs": [],
      "source": [
        "# from sklearn.tree import DecisionTreeRegressor\n",
        "\n",
        "# model = DecisionTreeRegressor()\n",
        "# model.fit(train_x, train_y)"
      ]
    },
    {
      "cell_type": "code",
      "execution_count": null,
      "metadata": {
        "id": "qqDv-ZLbYLkv",
        "outputId": "ac19852e-f1bb-4361-d8cf-fe0f9d8f65f5"
      },
      "outputs": [
        {
          "data": {
            "text/plain": [
              "LinearRegression()"
            ]
          },
          "execution_count": 9,
          "metadata": {},
          "output_type": "execute_result"
        }
      ],
      "source": [
        "from sklearn.linear_model import LinearRegression\n",
        "\n",
        "model = LinearRegression()\n",
        "model.fit(train_x, train_y)"
      ]
    },
    {
      "cell_type": "code",
      "execution_count": null,
      "metadata": {
        "id": "FSHFcf-7YLkw"
      },
      "outputs": [],
      "source": [
        "# from sklearn.ensemble import RandomForestRegressor\n",
        "\n",
        "# model = RandomForestRegressor()\n",
        "# model.fit(train_x, train_y)"
      ]
    },
    {
      "cell_type": "code",
      "execution_count": null,
      "metadata": {
        "id": "ojlzQM74YLkx"
      },
      "outputs": [],
      "source": [
        "# from sklearn.neighbors import KNeighborsRegressor\n",
        "\n",
        "# model = KNeighborsRegressor()\n",
        "# model.fit(train_x, train_y)"
      ]
    },
    {
      "cell_type": "markdown",
      "metadata": {
        "id": "47f8pq9kYLky"
      },
      "source": [
        "## 예측 수행"
      ]
    },
    {
      "cell_type": "code",
      "execution_count": null,
      "metadata": {
        "id": "qOAEkO6dYLky"
      },
      "outputs": [],
      "source": [
        "preds = model.predict(test_x)"
      ]
    },
    {
      "cell_type": "markdown",
      "metadata": {
        "id": "POyQKP-uYLkz"
      },
      "source": [
        "## 제출양식에 예측결과 입력"
      ]
    },
    {
      "cell_type": "code",
      "execution_count": null,
      "metadata": {
        "id": "u4X9BJb2YLk0",
        "outputId": "a8f1b067-20f4-4d89-9fed-d8c56ff95119"
      },
      "outputs": [
        {
          "data": {
            "text/html": [
              "<div>\n",
              "<style scoped>\n",
              "    .dataframe tbody tr th:only-of-type {\n",
              "        vertical-align: middle;\n",
              "    }\n",
              "\n",
              "    .dataframe tbody tr th {\n",
              "        vertical-align: top;\n",
              "    }\n",
              "\n",
              "    .dataframe thead th {\n",
              "        text-align: right;\n",
              "    }\n",
              "</style>\n",
              "<table border=\"1\" class=\"dataframe\">\n",
              "  <thead>\n",
              "    <tr style=\"text-align: right;\">\n",
              "      <th></th>\n",
              "      <th>ID</th>\n",
              "      <th>Income</th>\n",
              "    </tr>\n",
              "  </thead>\n",
              "  <tbody>\n",
              "    <tr>\n",
              "      <th>0</th>\n",
              "      <td>TEST_0000</td>\n",
              "      <td>111.011042</td>\n",
              "    </tr>\n",
              "    <tr>\n",
              "      <th>1</th>\n",
              "      <td>TEST_0001</td>\n",
              "      <td>88.025319</td>\n",
              "    </tr>\n",
              "    <tr>\n",
              "      <th>2</th>\n",
              "      <td>TEST_0002</td>\n",
              "      <td>598.288241</td>\n",
              "    </tr>\n",
              "    <tr>\n",
              "      <th>3</th>\n",
              "      <td>TEST_0003</td>\n",
              "      <td>465.541533</td>\n",
              "    </tr>\n",
              "    <tr>\n",
              "      <th>4</th>\n",
              "      <td>TEST_0004</td>\n",
              "      <td>10.933790</td>\n",
              "    </tr>\n",
              "    <tr>\n",
              "      <th>...</th>\n",
              "      <td>...</td>\n",
              "      <td>...</td>\n",
              "    </tr>\n",
              "    <tr>\n",
              "      <th>9995</th>\n",
              "      <td>TEST_9995</td>\n",
              "      <td>634.011183</td>\n",
              "    </tr>\n",
              "    <tr>\n",
              "      <th>9996</th>\n",
              "      <td>TEST_9996</td>\n",
              "      <td>841.062126</td>\n",
              "    </tr>\n",
              "    <tr>\n",
              "      <th>9997</th>\n",
              "      <td>TEST_9997</td>\n",
              "      <td>152.040115</td>\n",
              "    </tr>\n",
              "    <tr>\n",
              "      <th>9998</th>\n",
              "      <td>TEST_9998</td>\n",
              "      <td>50.819157</td>\n",
              "    </tr>\n",
              "    <tr>\n",
              "      <th>9999</th>\n",
              "      <td>TEST_9999</td>\n",
              "      <td>634.328538</td>\n",
              "    </tr>\n",
              "  </tbody>\n",
              "</table>\n",
              "<p>10000 rows × 2 columns</p>\n",
              "</div>"
            ],
            "text/plain": [
              "             ID      Income\n",
              "0     TEST_0000  111.011042\n",
              "1     TEST_0001   88.025319\n",
              "2     TEST_0002  598.288241\n",
              "3     TEST_0003  465.541533\n",
              "4     TEST_0004   10.933790\n",
              "...         ...         ...\n",
              "9995  TEST_9995  634.011183\n",
              "9996  TEST_9996  841.062126\n",
              "9997  TEST_9997  152.040115\n",
              "9998  TEST_9998   50.819157\n",
              "9999  TEST_9999  634.328538\n",
              "\n",
              "[10000 rows x 2 columns]"
            ]
          },
          "execution_count": 13,
          "metadata": {},
          "output_type": "execute_result"
        }
      ],
      "source": [
        "submission = pd.read_csv('./sample_submission.csv')\n",
        "submission['Income'] = preds\n",
        "submission"
      ]
    },
    {
      "cell_type": "markdown",
      "metadata": {
        "id": "FjOjBozbYLk0"
      },
      "source": [
        "## 예측결과 저장"
      ]
    },
    {
      "cell_type": "code",
      "execution_count": null,
      "metadata": {
        "id": "6N6n5xLCYLk1"
      },
      "outputs": [],
      "source": [
        "submission.to_csv('./baseline_submission.csv', index=False)"
      ]
    }
  ],
  "metadata": {
    "kernelspec": {
      "display_name": "Python 3 (ipykernel)",
      "language": "python",
      "name": "python3"
    },
    "language_info": {
      "codemirror_mode": {
        "name": "ipython",
        "version": 3
      },
      "file_extension": ".py",
      "mimetype": "text/x-python",
      "name": "python",
      "nbconvert_exporter": "python",
      "pygments_lexer": "ipython3",
      "version": "3.9.7"
    },
    "colab": {
      "provenance": [],
      "toc_visible": true,
      "include_colab_link": true
    }
  },
  "nbformat": 4,
  "nbformat_minor": 0
}