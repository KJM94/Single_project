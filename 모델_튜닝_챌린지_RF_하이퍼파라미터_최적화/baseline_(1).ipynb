{
  "cells": [
    {
      "cell_type": "markdown",
      "metadata": {
        "id": "view-in-github",
        "colab_type": "text"
      },
      "source": [
        "<a href=\"https://colab.research.google.com/github/KJM94/Single_project/blob/main/%EB%AA%A8%EB%8D%B8_%ED%8A%9C%EB%8B%9D_%EC%B1%8C%EB%A6%B0%EC%A7%80_RF_%ED%95%98%EC%9D%B4%ED%8D%BC%ED%8C%8C%EB%9D%BC%EB%AF%B8%ED%84%B0_%EC%B5%9C%EC%A0%81%ED%99%94/baseline_(1).ipynb\" target=\"_parent\"><img src=\"https://colab.research.google.com/assets/colab-badge.svg\" alt=\"Open In Colab\"/></a>"
      ]
    },
    {
      "cell_type": "markdown",
      "id": "cce34cd8-4e57-4eb1-a1e2-939dd24cb2b9",
      "metadata": {
        "id": "cce34cd8-4e57-4eb1-a1e2-939dd24cb2b9"
      },
      "source": [
        "## Import"
      ]
    },
    {
      "cell_type": "code",
      "execution_count": null,
      "id": "e452e8bf-53f1-4816-9d2b-75c9325dad0d",
      "metadata": {
        "id": "e452e8bf-53f1-4816-9d2b-75c9325dad0d"
      },
      "outputs": [],
      "source": [
        "import pandas as pd\n",
        "from sklearn.model_selection import GridSearchCV\n",
        "from sklearn.ensemble import RandomForestClassifier"
      ]
    },
    {
      "cell_type": "markdown",
      "id": "824eab87-9d21-46be-bb1a-e65e70d1608e",
      "metadata": {
        "id": "824eab87-9d21-46be-bb1a-e65e70d1608e"
      },
      "source": [
        "## Data Load"
      ]
    },
    {
      "cell_type": "code",
      "execution_count": null,
      "id": "048c21d3-d45f-4541-a2b5-991392b5a8e9",
      "metadata": {
        "id": "048c21d3-d45f-4541-a2b5-991392b5a8e9"
      },
      "outputs": [],
      "source": [
        "data = pd.read_csv('./open (1)/train.csv')\n",
        "\n",
        "# person_id 컬럼 제거\n",
        "X_train = data.drop(['person_id', 'login'], axis=1)\n",
        "y_train = data['login']"
      ]
    },
    {
      "cell_type": "markdown",
      "id": "5eaabb7c-6cbb-4fcb-907c-d14bacc342c4",
      "metadata": {
        "id": "5eaabb7c-6cbb-4fcb-907c-d14bacc342c4"
      },
      "source": [
        "## Hyperparameters Search"
      ]
    },
    {
      "cell_type": "code",
      "execution_count": null,
      "id": "ea45eb64-64b0-4c54-ac41-d8a9448d5e25",
      "metadata": {
        "id": "ea45eb64-64b0-4c54-ac41-d8a9448d5e25",
        "outputId": "244d7c5e-f403-40cf-d4b6-d0913096ee9f"
      },
      "outputs": [
        {
          "name": "stdout",
          "output_type": "stream",
          "text": [
            "Fitting 3 folds for each of 12 candidates, totalling 36 fits\n"
          ]
        },
        {
          "data": {
            "text/plain": [
              "({'max_depth': 10,\n",
              "  'min_samples_leaf': 4,\n",
              "  'min_samples_split': 10,\n",
              "  'n_estimators': 100},\n",
              " 0.742329768424059)"
            ]
          },
          "execution_count": 3,
          "metadata": {},
          "output_type": "execute_result"
        }
      ],
      "source": [
        "# GridSearchCV를 위한 하이퍼파라미터 설정\n",
        "param_search_space = {\n",
        "    'n_estimators': [10, 100],\n",
        "    'max_depth': [None, 10, 30],\n",
        "    'min_samples_split': [10],\n",
        "    'min_samples_leaf': [1, 4]\n",
        "}\n",
        "\n",
        "# RandomForestClassifier 객체 생성\n",
        "rf = RandomForestClassifier(random_state=42)\n",
        "\n",
        "# GridSearchCV 객체 생성\n",
        "grid_search = GridSearchCV(estimator=rf, param_grid=param_search_space, cv=3, n_jobs=-1, verbose=2, scoring='roc_auc')\n",
        "\n",
        "# GridSearchCV를 사용한 학습\n",
        "grid_search.fit(X_train, y_train)\n",
        "\n",
        "# 최적의 파라미터와 최고 점수 출력\n",
        "best_params = grid_search.best_params_\n",
        "best_score = grid_search.best_score_\n",
        "\n",
        "best_params, best_score"
      ]
    },
    {
      "cell_type": "markdown",
      "id": "2578ab5a-4af0-43a8-94b9-dc8fc2f8eaa8",
      "metadata": {
        "id": "2578ab5a-4af0-43a8-94b9-dc8fc2f8eaa8"
      },
      "source": [
        "## Submission"
      ]
    },
    {
      "cell_type": "code",
      "execution_count": null,
      "id": "4ac4fc3a-30a1-4489-8306-2fb6d5618eed",
      "metadata": {
        "id": "4ac4fc3a-30a1-4489-8306-2fb6d5618eed"
      },
      "outputs": [],
      "source": [
        "submit = pd.read_csv('./open (1)/sample_submission.csv')\n",
        "\n",
        "# 찾은 최적의 파라미터들을 제출 양식에 맞게 제출\n",
        "for param, value in best_params.items():\n",
        "    if param in submit.columns:\n",
        "        submit[param] = value\n",
        "\n",
        "submit.to_csv('./open (1)/baseline_submit.csv', index=False)"
      ]
    }
  ],
  "metadata": {
    "kernelspec": {
      "display_name": "Python 3 (ipykernel)",
      "language": "python",
      "name": "python3"
    },
    "language_info": {
      "codemirror_mode": {
        "name": "ipython",
        "version": 3
      },
      "file_extension": ".py",
      "mimetype": "text/x-python",
      "name": "python",
      "nbconvert_exporter": "python",
      "pygments_lexer": "ipython3",
      "version": "3.9.7"
    },
    "colab": {
      "provenance": [],
      "toc_visible": true,
      "include_colab_link": true
    }
  },
  "nbformat": 4,
  "nbformat_minor": 5
}