{
  "cells": [
    {
      "cell_type": "markdown",
      "metadata": {
        "id": "view-in-github",
        "colab_type": "text"
      },
      "source": [
        "<a href=\"https://colab.research.google.com/github/KJM94/Single_project/blob/main/%EC%9B%B9%20%EA%B8%B0%EC%82%AC%20%EC%B6%94%EC%B2%9C%20AI%20%EA%B2%BD%EC%A7%84%EB%8C%80%ED%9A%8C/Untitled7.ipynb\" target=\"_parent\"><img src=\"https://colab.research.google.com/assets/colab-badge.svg\" alt=\"Open In Colab\"/></a>"
      ]
    },
    {
      "cell_type": "code",
      "execution_count": null,
      "id": "b59c6bd1",
      "metadata": {
        "id": "b59c6bd1"
      },
      "outputs": [],
      "source": [
        "import pandas as pd\n",
        "import numpy as np\n",
        "from sklearn.feature_extraction.text import TfidfVectorizer\n",
        "from sklearn.metrics.pairwise import linear_kernel\n",
        "from scipy.sparse.linalg import svds\n",
        "import re\n",
        "\n",
        "# 데이터 로드\n",
        "article_info = pd.read_csv('./article_info.csv')\n",
        "view_log = pd.read_csv('./view_log.csv')\n",
        "\n",
        "# 텍스트 전처리\n",
        "def preprocess_text(text):\n",
        "    text = text.lower()\n",
        "    text = re.sub(r'\\d+', '', text)\n",
        "    text = re.sub(r'\\s+', ' ', text)\n",
        "    text = re.sub(r'[^\\w\\s]', '', text)\n",
        "    return text\n",
        "\n",
        "article_info['Content'] = article_info['Content'].apply(preprocess_text)\n",
        "\n",
        "# TF-IDF 벡터화\n",
        "tfidf = TfidfVectorizer(stop_words='english', max_df=0.85, min_df=2, ngram_range=(1, 2))\n",
        "tfidf_matrix = tfidf.fit_transform(article_info['Content'])\n",
        "\n",
        "# 기사 ID를 인덱스와 매핑\n",
        "indices = pd.Series(article_info.index, index=article_info['articleID']).drop_duplicates()\n",
        "\n",
        "# 코사인 유사도 계산\n",
        "cosine_sim = linear_kernel(tfidf_matrix, tfidf_matrix)\n"
      ]
    },
    {
      "cell_type": "code",
      "execution_count": null,
      "id": "cbad7365",
      "metadata": {
        "id": "cbad7365"
      },
      "outputs": [],
      "source": [
        "# 사용자-기사 상호작용 매트릭스 생성\n",
        "interaction_matrix = view_log.pivot_table(index='userID', columns='articleID', aggfunc='size', fill_value=0)\n",
        "interaction_matrix = interaction_matrix.astype(np.float64)\n",
        "\n",
        "# SVD 수행 (차원 수 조정)\n",
        "U, sigma, Vt = svds(interaction_matrix, k=50)\n",
        "sigma = np.diag(sigma)\n",
        "\n",
        "# 예측 평점 계산\n",
        "predicted_ratings = np.dot(np.dot(U, sigma), Vt)\n",
        "predicted_ratings = pd.DataFrame(predicted_ratings, columns=interaction_matrix.columns)\n"
      ]
    },
    {
      "cell_type": "code",
      "execution_count": null,
      "id": "c0c799d8",
      "metadata": {
        "id": "c0c799d8",
        "outputId": "d03d9cc7-5d80-4e33-b9cd-e40ebdf5215f"
      },
      "outputs": [
        {
          "name": "stdout",
          "output_type": "stream",
          "text": [
            "      userID     articleID\n",
            "0  USER_0000  ARTICLE_1305\n",
            "1  USER_0000  ARTICLE_0084\n",
            "2  USER_0000  ARTICLE_2081\n",
            "3  USER_0000  ARTICLE_0830\n",
            "4  USER_0000  ARTICLE_0287\n"
          ]
        }
      ],
      "source": [
        "# 협업 필터링 기반 추천\n",
        "def collaborative_filtering(user_id, num_recommendations=5):\n",
        "    user_idx = interaction_matrix.index.get_loc(user_id)\n",
        "    sorted_user_predictions = predicted_ratings.iloc[user_idx].sort_values(ascending=False)\n",
        "    return sorted_user_predictions.index[:num_recommendations]\n",
        "\n",
        "# 콘텐츠 기반 추천\n",
        "def get_content_based_recommendations(article_id, num_recommendations=5):\n",
        "    idx = indices[article_id]\n",
        "    sim_scores = list(enumerate(cosine_sim[idx]))\n",
        "    sim_scores = sorted(sim_scores, key=lambda x: x[1], reverse=True)\n",
        "    sim_scores = sim_scores[1:num_recommendations+1]\n",
        "    article_indices = [i[0] for i in sim_scores]\n",
        "    return article_info['articleID'].iloc[article_indices]\n",
        "\n",
        "# 하이브리드 추천 시스템\n",
        "def hybrid_recommendation_system(user_id, num_recommendations=5, weight_cf=0.6, weight_cb=0.4):\n",
        "    cf_recommendations = collaborative_filtering(user_id, num_recommendations * 2)\n",
        "    viewed_articles = view_log[view_log['userID'] == user_id]['articleID'].tolist()\n",
        "    cb_recommendations = []\n",
        "    for article_id in viewed_articles:\n",
        "        cb_recommendations.extend(get_content_based_recommendations(article_id, num_recommendations=2))\n",
        "    combined_recommendations = list(set(cf_recommendations).union(set(cb_recommendations)))\n",
        "    combined_scores = {article: weight_cf for article in cf_recommendations}\n",
        "    for article in cb_recommendations:\n",
        "        if article in combined_scores:\n",
        "            combined_scores[article] += weight_cb\n",
        "        else:\n",
        "            combined_scores[article] = weight_cb\n",
        "    sorted_recommendations = sorted(combined_scores.items(), key=lambda x: x[1], reverse=True)\n",
        "    return [article for article, score in sorted_recommendations if article not in viewed_articles][:num_recommendations]\n",
        "\n",
        "# 추천 결과 생성\n",
        "results = []\n",
        "for user_id in view_log['userID'].unique():\n",
        "    recommendations = hybrid_recommendation_system(user_id)\n",
        "    for article_id in recommendations:\n",
        "        results.append([user_id, article_id])\n",
        "\n",
        "# 결과 저장\n",
        "results_df = pd.DataFrame(results, columns=['userID', 'articleID'])\n",
        "results_df.to_csv('./hybrid_recommendations_optimized.csv', index=False)\n",
        "\n",
        "# 결과 출력\n",
        "print(results_df.head())\n"
      ]
    },
    {
      "cell_type": "code",
      "execution_count": null,
      "id": "2d1e4010",
      "metadata": {
        "id": "2d1e4010",
        "outputId": "40f412dd-8ba8-4215-b1ec-d163483abd15"
      },
      "outputs": [
        {
          "name": "stdout",
          "output_type": "stream",
          "text": [
            "      userID     articleID\n",
            "0  USER_0000  ARTICLE_1305\n",
            "1  USER_0000  ARTICLE_0084\n",
            "2  USER_0000  ARTICLE_2081\n",
            "3  USER_0000  ARTICLE_0830\n",
            "4  USER_0000  ARTICLE_0287\n"
          ]
        }
      ],
      "source": [
        "import pandas as pd\n",
        "import numpy as np\n",
        "from sklearn.feature_extraction.text import TfidfVectorizer\n",
        "from sklearn.metrics.pairwise import linear_kernel\n",
        "from scipy.sparse.linalg import svds\n",
        "\n",
        "# 데이터 로드\n",
        "article_info = pd.read_csv('./article_info.csv')\n",
        "view_log = pd.read_csv('./view_log.csv')\n",
        "\n",
        "# 텍스트 전처리\n",
        "def preprocess_text(text):\n",
        "    text = text.lower()\n",
        "    text = re.sub(r'\\d+', '', text)\n",
        "    text = re.sub(r'\\s+', ' ', text)\n",
        "    text = re.sub(r'[^\\w\\s]', '', text)\n",
        "    return text\n",
        "\n",
        "article_info['Content'] = article_info['Content'].apply(preprocess_text)\n",
        "\n",
        "# TF-IDF 벡터화\n",
        "tfidf = TfidfVectorizer(stop_words='english', max_df=0.85, min_df=2, ngram_range=(1, 2))\n",
        "tfidf_matrix = tfidf.fit_transform(article_info['Content'])\n",
        "\n",
        "# 코사인 유사도 계산\n",
        "cosine_sim = linear_kernel(tfidf_matrix, tfidf_matrix)\n",
        "\n",
        "# 사용자-기사 상호작용 매트릭스 생성\n",
        "interaction_matrix = view_log.pivot_table(index='userID', columns='articleID', aggfunc='size', fill_value=0)\n",
        "interaction_matrix = interaction_matrix.astype(np.float64)\n",
        "\n",
        "# SVD 수행 (차원 수 조정)\n",
        "U, sigma, Vt = svds(interaction_matrix, k=50)\n",
        "sigma = np.diag(sigma)\n",
        "\n",
        "# 예측 평점 계산\n",
        "predicted_ratings = np.dot(np.dot(U, sigma), Vt)\n",
        "predicted_ratings = pd.DataFrame(predicted_ratings, columns=interaction_matrix.columns)\n",
        "\n",
        "# 협업 필터링 기반 추천\n",
        "def collaborative_filtering(user_id, num_recommendations=5):\n",
        "    user_idx = interaction_matrix.index.get_loc(user_id)\n",
        "    sorted_user_predictions = predicted_ratings.iloc[user_idx].sort_values(ascending=False)\n",
        "    return sorted_user_predictions.index[:num_recommendations]\n",
        "\n",
        "# 콘텐츠 기반 추천\n",
        "indices = pd.Series(article_info.index, index=article_info['articleID']).drop_duplicates()\n",
        "def get_content_based_recommendations(article_id, num_recommendations=5):\n",
        "    idx = indices[article_id]\n",
        "    sim_scores = list(enumerate(cosine_sim[idx]))\n",
        "    sim_scores = sorted(sim_scores, key=lambda x: x[1], reverse=True)\n",
        "    sim_scores = sim_scores[1:num_recommendations+1]\n",
        "    article_indices = [i[0] for i in sim_scores]\n",
        "    return article_info['articleID'].iloc[article_indices]\n",
        "\n",
        "# 하이브리드 추천 시스템\n",
        "def hybrid_recommendation_system(user_id, num_recommendations=5, weight_cf=0.6, weight_cb=0.4):\n",
        "    cf_recommendations = collaborative_filtering(user_id, num_recommendations * 2)\n",
        "    viewed_articles = view_log[view_log['userID'] == user_id]['articleID'].tolist()\n",
        "    cb_recommendations = []\n",
        "    for article_id in viewed_articles:\n",
        "        cb_recommendations.extend(get_content_based_recommendations(article_id, num_recommendations=2))\n",
        "    combined_recommendations = list(set(cf_recommendations).union(set(cb_recommendations)))\n",
        "    combined_scores = {article: weight_cf for article in cf_recommendations}\n",
        "    for article in cb_recommendations:\n",
        "        if article in combined_scores:\n",
        "            combined_scores[article] += weight_cb\n",
        "        else:\n",
        "            combined_scores[article] = weight_cb\n",
        "    sorted_recommendations = sorted(combined_scores.items(), key=lambda x: x[1], reverse=True)\n",
        "    return [article for article, score in sorted_recommendations if article not in viewed_articles][:num_recommendations]\n",
        "\n",
        "# 추천 결과 생성\n",
        "results = []\n",
        "for user_id in view_log['userID'].unique():\n",
        "    recommendations = hybrid_recommendation_system(user_id)\n",
        "    for article_id in recommendations:\n",
        "        results.append([user_id, article_id])\n",
        "\n",
        "# 결과 저장\n",
        "results_df = pd.DataFrame(results, columns=['userID', 'articleID'])\n",
        "results_df.to_csv('./hybrid_recommendations_optimized.csv', index=False)\n",
        "\n",
        "# 결과 출력\n",
        "print(results_df.head())\n"
      ]
    }
  ],
  "metadata": {
    "kernelspec": {
      "display_name": "Python 3 (ipykernel)",
      "language": "python",
      "name": "python3"
    },
    "language_info": {
      "codemirror_mode": {
        "name": "ipython",
        "version": 3
      },
      "file_extension": ".py",
      "mimetype": "text/x-python",
      "name": "python",
      "nbconvert_exporter": "python",
      "pygments_lexer": "ipython3",
      "version": "3.9.7"
    },
    "colab": {
      "provenance": [],
      "toc_visible": true,
      "include_colab_link": true
    }
  },
  "nbformat": 4,
  "nbformat_minor": 5
}